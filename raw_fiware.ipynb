{
 "cells": [
  {
   "cell_type": "markdown",
   "metadata": {},
   "source": [
    "# Treinamento FIWARE Lab @ RNP"
   ]
  },
  {
   "cell_type": "markdown",
   "metadata": {},
   "source": [
    "## Desenvolvimento de aplicações com FIWARE com requisições puras"
   ]
  },
  {
   "cell_type": "markdown",
   "metadata": {},
   "source": [
    "### Criação do serviço"
   ]
  },
  {
   "cell_type": "markdown",
   "metadata": {},
   "source": [
    "`POST` http://fiwarelab.rnp.br:8007/iot/services"
   ]
  },
  {
   "cell_type": "markdown",
   "metadata": {},
   "source": [
    "**Headers**\n",
    "```javascript\n",
    "'Content-Type': 'application/json'\n",
    "'Fiware-Service': 'UFRN'\n",
    "'Fiware-ServicePath': '/dimap'\n",
    "```"
   ]
  },
  {
   "cell_type": "markdown",
   "metadata": {},
   "source": [
    "**Body**\n",
    "```javascript\n",
    "{\n",
    "  \"services\": [\n",
    "    {\n",
    "      \"protocol\": [\"IoTA-UL\"],\n",
    "      \"apikey\": \"1a2b3c4d5e6f7h\",\n",
    "      \"token\": \"token2\",\n",
    "      \"cbroker\": \"http://fiwarelab.rnp.br:8004\",\n",
    "      \"entity_type\": \"thing\",\n",
    "      \"resource\": \"/iot/d\"\n",
    "    }\n",
    "  ]\n",
    "}\n",
    "```"
   ]
  },
  {
   "cell_type": "markdown",
   "metadata": {},
   "source": [
    "### Criação de entidade"
   ]
  },
  {
   "cell_type": "markdown",
   "metadata": {},
   "source": [
    "`POST` http://fiwarelab.rnp.br:8004/v2/entities"
   ]
  },
  {
   "cell_type": "markdown",
   "metadata": {},
   "source": [
    "**Headers**\n",
    "```javascript\n",
    "'Content-Type': 'application/json'\n",
    "'Fiware-Service': 'UFRN'\n",
    "'Fiware-ServicePath': '/dimap'\n",
    "```"
   ]
  },
  {
   "cell_type": "markdown",
   "metadata": {},
   "source": [
    "**Body**\n",
    "```javascript\n",
    "{\n",
    "  \"id\": \"Room001\",\n",
    "  \"type\": \"Room\",\n",
    "  \"temperature\": {\n",
    "    \"value\": 23,\n",
    "    \"type\": \"Float\"\n",
    "  },\n",
    "  \"pressure\": {\n",
    "    \"value\": 720,\n",
    "    \"type\": \"Integer\"\n",
    "  }\n",
    "}\n",
    "```"
   ]
  },
  {
   "cell_type": "markdown",
   "metadata": {},
   "source": [
    "### Listar entidades"
   ]
  },
  {
   "cell_type": "markdown",
   "metadata": {},
   "source": [
    "`GET` http://fiwarelab.rnp.br:8004/v2/entities"
   ]
  },
  {
   "cell_type": "markdown",
   "metadata": {},
   "source": [
    "**Headers**\n",
    "```javascript\n",
    "'Fiware-Service': 'UFRN'\n",
    "'Fiware-ServicePath': '/dimap'\n",
    "```"
   ]
  },
  {
   "cell_type": "markdown",
   "metadata": {},
   "source": [
    "### Filtrar entidades"
   ]
  },
  {
   "cell_type": "markdown",
   "metadata": {},
   "source": [
    "Por tipo"
   ]
  },
  {
   "cell_type": "markdown",
   "metadata": {},
   "source": [
    "`GET` http://fiwarelab.rnp.br:8004/v2/entities?type=Room"
   ]
  },
  {
   "cell_type": "markdown",
   "metadata": {},
   "source": [
    "Por id"
   ]
  },
  {
   "cell_type": "markdown",
   "metadata": {},
   "source": [
    "`GET` http://fiwarelab.rnp.br:8004/v2/entities/Room001"
   ]
  },
  {
   "cell_type": "markdown",
   "metadata": {},
   "source": [
    "**Headers**\n",
    "```javascript\n",
    "'Fiware-Service': 'UFRN'\n",
    "'Fiware-ServicePath': '/dimap'\n",
    "```"
   ]
  },
  {
   "cell_type": "markdown",
   "metadata": {},
   "source": [
    "### Registro de dispositivo"
   ]
  },
  {
   "cell_type": "markdown",
   "metadata": {},
   "source": [
    "`POST` http://fiwarelab.rnp.br:8007/iot/devices"
   ]
  },
  {
   "cell_type": "markdown",
   "metadata": {},
   "source": [
    "**Headers**\n",
    "```javascript\n",
    "'Content-Type': 'application/json'\n",
    "'Fiware-Service': 'UFRN'\n",
    "'Fiware-ServicePath': '/dimap'\n",
    "```"
   ]
  },
  {
   "cell_type": "markdown",
   "metadata": {},
   "source": [
    "**Body**\n",
    "```javascript\n",
    "{\n",
    "  \"devices\": [\n",
    "  \t{\n",
    "  \t  \"device_id\": \"SPLACE001\",\n",
    "      \"entity_name\": \"RoomSPLACE\",\n",
    "      \"entity_type\": \"thing\",\n",
    "      \"timezone\": \"America/Fortaleza\",\n",
    "      \"transport\": \"MQTT\",\n",
    "      \"protocol\": \"IoTA-UL\",\n",
    "      \"attributes\": [\n",
    "        {\n",
    "          \"object_id\": \"t\",\n",
    "          \"name\": \"temperature\",\n",
    "          \"type\": \"float\"\n",
    "        },\n",
    "        {\n",
    "          \"object_id\": \"h\",\n",
    "          \"name\": \"humidity\",\n",
    "          \"type\": \"float\"\n",
    "        },\n",
    "        {\n",
    "          \"object_id\": \"p\",\n",
    "          \"name\": \"presence\",\n",
    "          \"type\": \"bool\"\n",
    "        },\n",
    "        {\n",
    "          \"object_id\": \"np\",\n",
    "          \"name\": \"num_people\",\n",
    "          \"type\": \"int\"\n",
    "        },\n",
    "        {\n",
    "          \"object_id\": \"sac\",\n",
    "          \"name\": \"state_ac\",\n",
    "          \"type\": \"bool\"\n",
    "        },\n",
    "        {\n",
    "          \"object_id\": \"tac\",\n",
    "          \"name\": \"temperature_ac\",\n",
    "          \"type\": \"int\"\n",
    "        }\n",
    "      ],\n",
    "      \"commands\": [\n",
    "        {\n",
    "          \"name\": \"change_state_ac\",\n",
    "          \"type\": \"command\",\n",
    "          \"value\": \"SPLACE001@change_state_ac|%s\"\n",
    "        },\n",
    "        {\n",
    "          \"name\": \"change_temperature_ac\",\n",
    "          \"type\": \"command\",\n",
    "          \"value\": \"SPLACE001@change_temperature_ac|%d\"\n",
    "        }\n",
    "      ],\n",
    "      \"static_attributes\": [\n",
    "        {\n",
    "          \"name\": \"device_id\",\n",
    "          \"type\": \"string\",\n",
    "          \"value\": \"SPLACE001\"\n",
    "        },\n",
    "        {\n",
    "          \"name\": \"id_sala\",\n",
    "          \"type\": \"string\",\n",
    "          \"value\": \"\"\n",
    "        }\n",
    "      ]\n",
    "    }\n",
    "  ]\n",
    "}\n",
    "```"
   ]
  },
  {
   "cell_type": "markdown",
   "metadata": {},
   "source": [
    "### Listar dispositivos"
   ]
  },
  {
   "cell_type": "markdown",
   "metadata": {},
   "source": [
    "`GET` http://fiwarelab.rnp.br:8007/iot/devices"
   ]
  },
  {
   "cell_type": "markdown",
   "metadata": {},
   "source": [
    "**Headers**\n",
    "```javascript\n",
    "'Content-Type': 'application/json'\n",
    "'Fiware-Service': 'UFRN'\n",
    "'Fiware-ServicePath': '/dimap'\n",
    "```"
   ]
  },
  {
   "cell_type": "markdown",
   "metadata": {},
   "source": [
    "### Envio de dados"
   ]
  },
  {
   "cell_type": "markdown",
   "metadata": {},
   "source": [
    "Usando UL-HTTP"
   ]
  },
  {
   "cell_type": "markdown",
   "metadata": {},
   "source": [
    "`POST` http://fiwarelab.rnp.br:8006/iot/d?k=1a2b3c4d5e6f7h&i=SPLACE001"
   ]
  },
  {
   "cell_type": "markdown",
   "metadata": {},
   "source": [
    "**Headers**\n",
    "```javascript\n",
    "'Content-Type': 'text/plain'\n",
    "'Fiware-Service': 'UFRN'\n",
    "'Fiware-ServicePath': '/dimap'\n",
    "```"
   ]
  },
  {
   "cell_type": "markdown",
   "metadata": {},
   "source": [
    "**Body**\n",
    "```javascript\n",
    "t|35|h|100|p|1\n",
    "```"
   ]
  },
  {
   "cell_type": "markdown",
   "metadata": {},
   "source": [
    "### Execução de comandos"
   ]
  },
  {
   "cell_type": "markdown",
   "metadata": {},
   "source": [
    "`POST` http://fiwarelab.rnp.br:8004/v2/entities"
   ]
  },
  {
   "cell_type": "markdown",
   "metadata": {},
   "source": [
    "**Headers**\n",
    "```javascript\n",
    "'Content-Type': 'application/json'\n",
    "'Fiware-Service': 'UFRN'\n",
    "'Fiware-ServicePath': '/dimap'\n",
    "'Accept': 'application/json'\n",
    "```"
   ]
  },
  {
   "cell_type": "markdown",
   "metadata": {},
   "source": [
    "**Body**\n",
    "```javascript\n",
    "{\n",
    "  \"contextElements\": [\n",
    "    {\n",
    "      \"type\": \"thing\",\n",
    "      \"isPattern\": \"false\",\n",
    "      \"id\": \"RoomSPLACE\",\n",
    "      \"attributes\": [\n",
    "        {\n",
    "          \"name\": \"change_state_ac\",\n",
    "          \"type\": \"command\",\n",
    "          \"value\": \"ON\"\n",
    "        }\n",
    "      ]\n",
    "    }\n",
    "  ],\n",
    "  \"updateAction\": \"UPDATE\"\n",
    "}\n",
    "```"
   ]
  },
  {
   "cell_type": "markdown",
   "metadata": {},
   "source": [
    "### Armazenamento de dados históricos de leituras"
   ]
  },
  {
   "cell_type": "markdown",
   "metadata": {},
   "source": [
    "`POST` http://fiwarelab.rnp.br:8004/v1/subscribeContext"
   ]
  },
  {
   "cell_type": "markdown",
   "metadata": {},
   "source": [
    "**Headers**\n",
    "```javascript\n",
    "'Content-Type': 'application/json'\n",
    "'Fiware-Service': 'UFRN'\n",
    "'Fiware-ServicePath': '/dimap'\n",
    "'Accept': 'application/json'\n",
    "```"
   ]
  },
  {
   "cell_type": "markdown",
   "metadata": {},
   "source": [
    "**Body**\n",
    "```javascript\n",
    "{\n",
    "  \"entities\": [\n",
    "    {\n",
    "      \"type\": \"thing\",\n",
    "      \"isPattern\": \"false\",\n",
    "      \"id\": \"SPLACE001\"\n",
    "    }\n",
    "  ],\n",
    "  \"attributes\": [ \"temperature\", \"humidity\", \"presence\" ],\n",
    "  \"notifyConditions\": [\n",
    "    {\n",
    "      \"type\": \"ONCHANGE\",\n",
    "      \"condValues\": [ \"temperature\", \"humidity\", \"presence\" ]\n",
    "    }\n",
    "  ],\n",
    "  \"reference\": \"http://fiwarelab.rnp.br:8010/notify\",\n",
    "  \"duration\": \"P1Y\",\n",
    "  \"throttling\": \"PT1S\"\n",
    "}\n",
    "```"
   ]
  }
 ],
 "metadata": {
  "kernelspec": {
   "display_name": "Python 3",
   "language": "python",
   "name": "python3"
  },
  "language_info": {
   "codemirror_mode": {
    "name": "ipython",
    "version": 3
   },
   "file_extension": ".py",
   "mimetype": "text/x-python",
   "name": "python",
   "nbconvert_exporter": "python",
   "pygments_lexer": "ipython3",
   "version": "3.7.0"
  }
 },
 "nbformat": 4,
 "nbformat_minor": 2
}
