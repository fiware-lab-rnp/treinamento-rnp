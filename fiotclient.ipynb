{
 "cells": [
  {
   "cell_type": "markdown",
   "metadata": {},
   "source": [
    "# Treinamento FIWARE Lab @ RNP"
   ]
  },
  {
   "cell_type": "markdown",
   "metadata": {},
   "source": [
    "## Desenvolvimento de aplicações com FIWARE com FIoT-Client"
   ]
  },
  {
   "cell_type": "markdown",
   "metadata": {},
   "source": [
    "### Arquivo de configuração"
   ]
  },
  {
   "cell_type": "code",
   "execution_count": 1,
   "metadata": {},
   "outputs": [],
   "source": [
    "def print_file(filename):\n",
    "    with open(filename, 'r') as fin:\n",
    "        print(fin.read())"
   ]
  },
  {
   "cell_type": "code",
   "execution_count": 2,
   "metadata": {},
   "outputs": [
    {
     "name": "stdout",
     "output_type": "stream",
     "text": [
      "[service]\n",
      "fiware_service=UFRN\n",
      "fiware_service_path=/dimap\n",
      "\n",
      "[context_broker]\n",
      "host=fiwarelab.rnp.br\n",
      "port=8004\n",
      "OAuth=no\n",
      "\n",
      "[iota]\n",
      "host=fiwarelab.rnp.br\n",
      "north_port=8007\n",
      "protocol_port=8006\n",
      "OAuth=no\n",
      "api_key=\n",
      "\n",
      "[sth_comet]\n",
      "host=fiwarelab.rnp.br\n",
      "port=8666\n",
      "\n",
      "[cygnus]\n",
      "host=fiwarelab.rnp.br\n",
      "port=5050\n",
      "notification_host=fiwarelab.rnp.br\n",
      "\n",
      "[mqtt_broker]\n",
      "host=fiwarelab.rnp.br\n",
      "port=8005\n",
      "\n",
      "[perseo]\n",
      "host=fiwarelab.rnp.br\n",
      "port=9090\n",
      "\n",
      "[local]\n",
      "host_type=MacOSX\n",
      "host_id=b4:b6:30\n",
      "\n"
     ]
    }
   ],
   "source": [
    "print_file('config.ini')"
   ]
  },
  {
   "cell_type": "markdown",
   "metadata": {},
   "source": [
    "### Configuração dos clientes"
   ]
  },
  {
   "cell_type": "code",
   "execution_count": 3,
   "metadata": {},
   "outputs": [],
   "source": [
    "from fiotclient.context import FiwareContextClient\n",
    "from fiotclient.iot import FiwareIotClient\n",
    "import json\n",
    "\n",
    "client_context = FiwareContextClient.from_config_file('config.ini')\n",
    "client_iot = FiwareIotClient.from_config_file('config.ini')"
   ]
  },
  {
   "cell_type": "markdown",
   "metadata": {},
   "source": [
    "### Criação do serviço"
   ]
  },
  {
   "cell_type": "code",
   "execution_count": 4,
   "metadata": {},
   "outputs": [
    {
     "name": "stdout",
     "output_type": "stream",
     "text": [
      "API Key: 0188929677a911e9bf2c60f81db4b630\n"
     ]
    }
   ],
   "source": [
    "response = client_iot.create_service('UFRN', '/imd')\n",
    "api_key = response['api_key']\n",
    "print('API Key: {}'.format(api_key))"
   ]
  },
  {
   "cell_type": "code",
   "execution_count": 5,
   "metadata": {},
   "outputs": [],
   "source": [
    "client_context.set_service('UFRN', '/imd')\n",
    "client_iot.set_service('UFRN', '/imd')\n",
    "client_iot.set_api_key(api_key)"
   ]
  },
  {
   "cell_type": "markdown",
   "metadata": {},
   "source": [
    "### Criação de entidade"
   ]
  },
  {
   "cell_type": "code",
   "execution_count": 6,
   "metadata": {},
   "outputs": [
    {
     "name": "stdout",
     "output_type": "stream",
     "text": [
      "{\n",
      "  \"id\": \"[ENTITY_ID]\",\n",
      "  \"type\": \"[ENTITY_TYPE]\",\n",
      "  \"temperature\": {\n",
      "    \"value\": \"\",\n",
      "    \"type\": \"Float\"\n",
      "  },\n",
      "  \"pressure\": {\n",
      "    \"value\": \"\",\n",
      "    \"type\": \"Integer\"\n",
      "  }\n",
      "}\n"
     ]
    }
   ],
   "source": [
    "print_file('room_schema.json')"
   ]
  },
  {
   "cell_type": "code",
   "execution_count": 7,
   "metadata": {},
   "outputs": [
    {
     "data": {
      "text/plain": [
       "{'status_code': 422,\n",
       " 'headers': {'Server': 'nginx/1.12.2', 'Date': 'Thu, 16 May 2019 07:05:37 GMT', 'Content-Type': 'application/json', 'Content-Length': '56', 'Connection': 'keep-alive', 'Fiware-Correlator': '01dc5bba-77a9-11e9-9fcb-0242ac11000b'},\n",
       " 'response': {'error': 'Unprocessable', 'description': 'Already Exists'}}"
      ]
     },
     "execution_count": 7,
     "metadata": {},
     "output_type": "execute_result"
    }
   ],
   "source": [
    "client_context.create_entity_from_file('room_schema.json', 'Room', 'Room001')"
   ]
  },
  {
   "cell_type": "markdown",
   "metadata": {},
   "source": [
    "### Listar entidades"
   ]
  },
  {
   "cell_type": "code",
   "execution_count": 8,
   "metadata": {},
   "outputs": [
    {
     "data": {
      "text/plain": [
       "{'status_code': 200,\n",
       " 'headers': {'Server': 'nginx/1.12.2', 'Date': 'Thu, 16 May 2019 07:05:37 GMT', 'Content-Type': 'application/json', 'Content-Length': '1540', 'Connection': 'keep-alive', 'Fiware-Correlator': '01fa3586-77a9-11e9-aa36-0242ac11000b'},\n",
       " 'response': [{'id': 'Room001',\n",
       "   'type': 'Room',\n",
       "   'pressure': {'type': 'Integer', 'value': '', 'metadata': {}},\n",
       "   'temperature': {'type': 'Float', 'value': '', 'metadata': {}}},\n",
       "  {'id': 'RoomSPLACE',\n",
       "   'type': 'thing',\n",
       "   'TimeInstant': {'type': 'ISO8601',\n",
       "    'value': '2019-05-16T07:02:55.00Z',\n",
       "    'metadata': {}},\n",
       "   'change_state_ac_info': {'type': 'commandResult',\n",
       "    'value': ' ',\n",
       "    'metadata': {}},\n",
       "   'change_state_ac_status': {'type': 'commandStatus',\n",
       "    'value': 'PENDING',\n",
       "    'metadata': {'TimeInstant': {'type': 'ISO8601',\n",
       "      'value': '2019-05-16T07:02:55.601Z'}}},\n",
       "   'change_temperature_ac_info': {'type': 'commandResult',\n",
       "    'value': ' ',\n",
       "    'metadata': {}},\n",
       "   'change_temperature_ac_status': {'type': 'commandStatus',\n",
       "    'value': 'UNKNOWN',\n",
       "    'metadata': {}},\n",
       "   'humidity': {'type': 'int',\n",
       "    'value': '100',\n",
       "    'metadata': {'TimeInstant': {'type': 'ISO8601',\n",
       "      'value': '2019-05-16T07:01:41.322Z'}}},\n",
       "   'id_agent': {'type': 'string',\n",
       "    'value': '',\n",
       "    'metadata': {'TimeInstant': {'type': 'ISO8601',\n",
       "      'value': '2019-05-16T07:02:55.601Z'}}},\n",
       "   'id_dept': {'type': 'string',\n",
       "    'value': '',\n",
       "    'metadata': {'TimeInstant': {'type': 'ISO8601',\n",
       "      'value': '2019-05-16T07:02:55.601Z'}}},\n",
       "   'id_room': {'type': 'string',\n",
       "    'value': '',\n",
       "    'metadata': {'TimeInstant': {'type': 'ISO8601',\n",
       "      'value': '2019-05-16T07:02:55.601Z'}}},\n",
       "   'num_people': {'type': 'int', 'value': ' ', 'metadata': {}},\n",
       "   'presence': {'type': 'bool',\n",
       "    'value': '1',\n",
       "    'metadata': {'TimeInstant': {'type': 'ISO8601',\n",
       "      'value': '2019-05-16T07:01:41.322Z'}}},\n",
       "   'state_ac': {'type': 'bool', 'value': ' ', 'metadata': {}},\n",
       "   'temperature': {'type': 'int',\n",
       "    'value': '36',\n",
       "    'metadata': {'TimeInstant': {'type': 'ISO8601',\n",
       "      'value': '2019-05-16T07:01:41.322Z'}}},\n",
       "   'temperature_ac': {'type': 'int', 'value': ' ', 'metadata': {}}}]}"
      ]
     },
     "execution_count": 8,
     "metadata": {},
     "output_type": "execute_result"
    }
   ],
   "source": [
    "client_context.get_entities()"
   ]
  },
  {
   "cell_type": "markdown",
   "metadata": {},
   "source": [
    "### Filtrar entidades"
   ]
  },
  {
   "cell_type": "markdown",
   "metadata": {},
   "source": [
    "Por tipo"
   ]
  },
  {
   "cell_type": "code",
   "execution_count": 9,
   "metadata": {},
   "outputs": [
    {
     "data": {
      "text/plain": [
       "{'status_code': 200,\n",
       " 'headers': {'Server': 'nginx/1.12.2', 'Date': 'Thu, 16 May 2019 07:05:38 GMT', 'Content-Type': 'application/json', 'Content-Length': '143', 'Connection': 'keep-alive', 'Fiware-Correlator': '021aa4f6-77a9-11e9-ae24-0242ac11000b'},\n",
       " 'response': [{'id': 'Room001',\n",
       "   'type': 'Room',\n",
       "   'pressure': {'type': 'Integer', 'value': '', 'metadata': {}},\n",
       "   'temperature': {'type': 'Float', 'value': '', 'metadata': {}}}]}"
      ]
     },
     "execution_count": 9,
     "metadata": {},
     "output_type": "execute_result"
    }
   ],
   "source": [
    "client_context.get_entities_by_type('Room')"
   ]
  },
  {
   "cell_type": "markdown",
   "metadata": {},
   "source": [
    "Por id"
   ]
  },
  {
   "cell_type": "code",
   "execution_count": 10,
   "metadata": {},
   "outputs": [
    {
     "data": {
      "text/plain": [
       "{'status_code': 200,\n",
       " 'headers': {'Server': 'nginx/1.12.2', 'Date': 'Thu, 16 May 2019 07:05:38 GMT', 'Content-Type': 'application/json', 'Content-Length': '141', 'Connection': 'keep-alive', 'Fiware-Correlator': '02293dae-77a9-11e9-b303-0242ac11000b'},\n",
       " 'response': {'id': 'Room001',\n",
       "  'type': 'Room',\n",
       "  'pressure': {'type': 'Integer', 'value': '', 'metadata': {}},\n",
       "  'temperature': {'type': 'Float', 'value': '', 'metadata': {}}}}"
      ]
     },
     "execution_count": 10,
     "metadata": {},
     "output_type": "execute_result"
    }
   ],
   "source": [
    "client_context.get_entity_by_id('Room001', 'Room')"
   ]
  },
  {
   "cell_type": "markdown",
   "metadata": {},
   "source": [
    "### Registro de dispositivo"
   ]
  },
  {
   "cell_type": "code",
   "execution_count": 11,
   "metadata": {},
   "outputs": [
    {
     "name": "stdout",
     "output_type": "stream",
     "text": [
      "{\n",
      "  \"devices\":[\n",
      "    {\n",
      "      \"device_id\":\"[DEVICE_ID]\",\n",
      "      \"entity_name\":\"[ENTITY_ID]\",\n",
      "      \"entity_type\":\"thing\",\n",
      "      \"timezone\":\"America/Fortaleza\",\n",
      "      \"protocol\":\"IoTA-UL\",\n",
      "      \"transport\":\"MQTT\",\n",
      "      \"attributes\":[\n",
      "        {\n",
      "          \"object_id\":\"t\",\n",
      "          \"name\":\"temperature\",\n",
      "          \"type\":\"int\"\n",
      "        },\n",
      "        {\n",
      "          \"object_id\":\"h\",\n",
      "          \"name\":\"humidity\",\n",
      "          \"type\":\"int\"\n",
      "        },\n",
      "        {\n",
      "          \"object_id\":\"p\",\n",
      "          \"name\":\"presence\",\n",
      "          \"type\":\"bool\"\n",
      "        },\n",
      "        {\n",
      "          \"object_id\":\"np\",\n",
      "          \"name\":\"num_people\",\n",
      "          \"type\":\"int\"\n",
      "        },\n",
      "        {\n",
      "          \"object_id\":\"sac\",\n",
      "          \"name\":\"state_ac\",\n",
      "          \"type\":\"bool\"\n",
      "        },\n",
      "        {\n",
      "          \"object_id\":\"tac\",\n",
      "          \"name\":\"temperature_ac\",\n",
      "          \"type\":\"int\"\n",
      "        }\n",
      "      ],\n",
      "      \"commands\":[\n",
      "        {\n",
      "          \"name\":\"change_state_ac\",\n",
      "          \"type\":\"command\",\n",
      "          \"value\":\"[DEVICE_ID]@change_state_ac|%s\"\n",
      "        },\n",
      "        {\n",
      "          \"name\":\"change_temperature_ac\",\n",
      "          \"type\":\"command\",\n",
      "          \"value\":\"[DEVICE_ID]@change_temperature_ac|%d\"\n",
      "        }\n",
      "      ],\n",
      "      \"static_attributes\":[\n",
      "        {\n",
      "          \"name\":\"id_dept\",\n",
      "          \"type\":\"string\",\n",
      "          \"value\":\"\"\n",
      "        },\n",
      "        {\n",
      "          \"name\":\"id_room\",\n",
      "          \"type\":\"string\",\n",
      "          \"value\":\"\"\n",
      "        },\n",
      "        {\n",
      "          \"name\":\"id_agent\",\n",
      "          \"type\":\"string\",\n",
      "          \"value\":\"\"\n",
      "        }\n",
      "      ]\n",
      "    }\n",
      "  ]\n",
      "}\n"
     ]
    }
   ],
   "source": [
    "print_file('splace_device_schema.json')"
   ]
  },
  {
   "cell_type": "code",
   "execution_count": 12,
   "metadata": {},
   "outputs": [
    {
     "data": {
      "text/plain": [
       "{'status_code': 409,\n",
       " 'headers': {'Server': 'nginx/1.12.2', 'Date': 'Thu, 16 May 2019 07:05:38 GMT', 'Content-Type': 'application/json; charset=utf-8', 'Content-Length': '110', 'Connection': 'keep-alive', 'X-Powered-By': 'Express', 'Fiware-Correlator': 'bb1493a3-4b50-4325-81d9-d4a2e84df1d4', 'ETag': 'W/\"6e-WddhtiQc8ikjEqrC44yazr5os70\"'},\n",
       " 'response': {'name': 'DUPLICATE_DEVICE_ID',\n",
       "  'message': 'A device with the same pair (Service, DeviceId) was found:SPLACE001'}}"
      ]
     },
     "execution_count": 12,
     "metadata": {},
     "output_type": "execute_result"
    }
   ],
   "source": [
    "client_iot.register_device_from_file('splace_device_schema.json', 'SPLACE001', 'RoomSPLACE')"
   ]
  },
  {
   "cell_type": "markdown",
   "metadata": {},
   "source": [
    "### Listar dispositivos"
   ]
  },
  {
   "cell_type": "code",
   "execution_count": 13,
   "metadata": {},
   "outputs": [
    {
     "data": {
      "text/plain": [
       "{'status_code': 200,\n",
       " 'headers': {'Server': 'nginx/1.12.2', 'Date': 'Thu, 16 May 2019 07:05:38 GMT', 'Content-Type': 'application/json; charset=utf-8', 'Content-Length': '848', 'Connection': 'keep-alive', 'X-Powered-By': 'Express', 'Fiware-Correlator': '0e1823dc-4094-4a33-bdc2-10499ef22a10', 'ETag': 'W/\"350-sHDURmCDIzP5w0mQRdpS93AfE84\"'},\n",
       " 'response': {'count': 1,\n",
       "  'devices': [{'device_id': 'SPLACE001',\n",
       "    'service': 'UFRN',\n",
       "    'service_path': '/imd',\n",
       "    'entity_name': 'RoomSPLACE',\n",
       "    'entity_type': 'thing',\n",
       "    'transport': 'MQTT',\n",
       "    'attributes': [{'object_id': 't', 'name': 'temperature', 'type': 'int'},\n",
       "     {'object_id': 'h', 'name': 'humidity', 'type': 'int'},\n",
       "     {'object_id': 'p', 'name': 'presence', 'type': 'bool'},\n",
       "     {'object_id': 'np', 'name': 'num_people', 'type': 'int'},\n",
       "     {'object_id': 'sac', 'name': 'state_ac', 'type': 'bool'},\n",
       "     {'object_id': 'tac', 'name': 'temperature_ac', 'type': 'int'}],\n",
       "    'lazy': [],\n",
       "    'commands': [{'object_id': 'change_state_ac',\n",
       "      'name': 'change_state_ac',\n",
       "      'type': 'command'},\n",
       "     {'object_id': 'change_temperature_ac',\n",
       "      'name': 'change_temperature_ac',\n",
       "      'type': 'command'}],\n",
       "    'static_attributes': [{'name': 'id_dept', 'type': 'string', 'value': ''},\n",
       "     {'name': 'id_room', 'type': 'string', 'value': ''},\n",
       "     {'name': 'id_agent', 'type': 'string', 'value': ''}],\n",
       "    'protocol': 'IoTA-UL'}]}}"
      ]
     },
     "execution_count": 13,
     "metadata": {},
     "output_type": "execute_result"
    }
   ],
   "source": [
    "client_iot.list_devices()"
   ]
  },
  {
   "cell_type": "markdown",
   "metadata": {},
   "source": [
    "### Envio de dados"
   ]
  },
  {
   "cell_type": "markdown",
   "metadata": {},
   "source": [
    "Usando UL-HTTP"
   ]
  },
  {
   "cell_type": "code",
   "execution_count": 14,
   "metadata": {},
   "outputs": [
    {
     "data": {
      "text/plain": [
       "{'result': 'OK'}"
      ]
     },
     "execution_count": 14,
     "metadata": {},
     "output_type": "execute_result"
    }
   ],
   "source": [
    "client_iot.send_observation('SPLACE001', {'t': 36, 'h': 100, 'p': 1}, protocol='HTTP')"
   ]
  },
  {
   "cell_type": "markdown",
   "metadata": {},
   "source": [
    "### Execução de comandos"
   ]
  },
  {
   "cell_type": "code",
   "execution_count": 15,
   "metadata": {},
   "outputs": [
    {
     "data": {
      "text/plain": [
       "{'status_code': 200,\n",
       " 'headers': {'Server': 'nginx/1.12.2', 'Date': 'Thu, 16 May 2019 07:05:38 GMT', 'Content-Type': 'application/json; charset=utf-8', 'Content-Length': '210', 'Connection': 'keep-alive', 'X-Powered-By': 'Express', 'Fiware-Correlator': 'dc85fea7-42e7-4599-8190-8e46937d78ca', 'ETag': 'W/\"d2-Qf7s59QD5yddhBZVhXtE8lHjm9I\"'},\n",
       " 'response': {'contextResponses': [{'contextElement': {'attributes': [{'name': 'change_state_ac',\n",
       "       'type': 'command',\n",
       "       'value': ''}],\n",
       "     'id': 'RoomSPLACE',\n",
       "     'isPattern': False,\n",
       "     'type': 'thing'},\n",
       "    'statusCode': {'code': 200, 'reasonPhrase': 'OK'}}]}}"
      ]
     },
     "execution_count": 15,
     "metadata": {},
     "output_type": "execute_result"
    }
   ],
   "source": [
    "client_iot.send_command('RoomSPLACE', 'SPLACE001', 'change_state_ac', {'state': 'ON'})"
   ]
  },
  {
   "cell_type": "markdown",
   "metadata": {},
   "source": [
    "### Armazenamento de dados históricos de leituras"
   ]
  },
  {
   "cell_type": "code",
   "execution_count": 16,
   "metadata": {},
   "outputs": [
    {
     "data": {
      "text/plain": [
       "{'status_code': 200,\n",
       " 'headers': {'Server': 'nginx/1.12.2', 'Date': 'Thu, 16 May 2019 07:05:38 GMT', 'Content-Type': 'application/json', 'Content-Length': '104', 'Connection': 'keep-alive', 'Fiware-Correlator': '0275c5ca-77a9-11e9-8df6-0242ac11000b'},\n",
       " 'response': {'subscribeResponse': {'subscriptionId': '5cdd0bc223832999dee105b8',\n",
       "   'duration': 'P1Y',\n",
       "   'throttling': 'PT1S'}}}"
      ]
     },
     "execution_count": 16,
     "metadata": {},
     "output_type": "execute_result"
    }
   ],
   "source": [
    "client_context.subscribe_cygnus('RoomSPLACE', ['temperature', 'humidity', 'presence'])"
   ]
  },
  {
   "cell_type": "code",
   "execution_count": 17,
   "metadata": {},
   "outputs": [
    {
     "data": {
      "text/plain": [
       "{'status_code': 200,\n",
       " 'headers': {'Server': 'nginx/1.12.2', 'Date': 'Thu, 16 May 2019 07:05:38 GMT', 'Content-Type': 'application/json', 'Content-Length': '932', 'Connection': 'keep-alive', 'Fiware-Correlator': '0281fcb4-77a9-11e9-8e3b-0242ac11000b'},\n",
       " 'response': [{'id': '5cdd0b6823832999dee105b7',\n",
       "   'expires': '2020-05-15T07:04:08.00Z',\n",
       "   'status': 'failed',\n",
       "   'subject': {'entities': [{'id': 'RoomSPLACE', 'type': 'thing'}],\n",
       "    'condition': {'attrs': ['temperature', 'humidity', 'presence']}},\n",
       "   'notification': {'timesSent': 2,\n",
       "    'lastNotification': '2019-05-16T07:05:38.00Z',\n",
       "    'attrs': ['temperature', 'humidity', 'presence'],\n",
       "    'attrsFormat': 'legacy',\n",
       "    'http': {'url': 'http://fiwarelab.rnp.br:5050/notify'},\n",
       "    'lastFailure': '2019-05-16T07:05:38.00Z',\n",
       "    'lastFailureReason': \"Couldn't connect to server\"},\n",
       "   'throttling': 1},\n",
       "  {'id': '5cdd0bc223832999dee105b8',\n",
       "   'expires': '2020-05-15T07:05:38.00Z',\n",
       "   'status': 'active',\n",
       "   'subject': {'entities': [{'id': 'RoomSPLACE', 'type': 'thing'}],\n",
       "    'condition': {'attrs': ['temperature', 'humidity', 'presence']}},\n",
       "   'notification': {'timesSent': 1,\n",
       "    'lastNotification': '2019-05-16T07:05:38.00Z',\n",
       "    'attrs': ['temperature', 'humidity', 'presence'],\n",
       "    'attrsFormat': 'legacy',\n",
       "    'http': {'url': 'http://fiwarelab.rnp.br:5050/notify'}},\n",
       "   'throttling': 1}]}"
      ]
     },
     "execution_count": 17,
     "metadata": {},
     "output_type": "execute_result"
    }
   ],
   "source": [
    "client_context.list_subscriptions()"
   ]
  }
 ],
 "metadata": {
  "kernelspec": {
   "display_name": "Python 3",
   "language": "python",
   "name": "python3"
  },
  "language_info": {
   "codemirror_mode": {
    "name": "ipython",
    "version": 3
   },
   "file_extension": ".py",
   "mimetype": "text/x-python",
   "name": "python",
   "nbconvert_exporter": "python",
   "pygments_lexer": "ipython3",
   "version": "3.7.0"
  }
 },
 "nbformat": 4,
 "nbformat_minor": 2
}
